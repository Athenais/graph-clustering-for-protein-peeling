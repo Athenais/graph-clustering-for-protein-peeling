{
 "cells": [
  {
   "cell_type": "markdown",
   "metadata": {},
   "source": [
    "Author: Athénaïs Vaginay (vaginay.athenais@gmail.com)\n",
    "The latest version of this IPython notebook is available at https://github.com/Athenais/graph-clustering-for-protein-peeling."
   ]
  },
  {
   "cell_type": "code",
   "execution_count": 3,
   "metadata": {
    "collapsed": true
   },
   "outputs": [],
   "source": [
    "from Bio import PDB\n",
    "\n",
    "pdb_code = \"1F45\"\n",
    "pdb_dir = \"test\"\n",
    "pdb_path = pdb_dir + \"/pdb1f45.ent\""
   ]
  },
  {
   "cell_type": "code",
   "execution_count": 4,
   "metadata": {
    "collapsed": false
   },
   "outputs": [
    {
     "ename": "NameError",
     "evalue": "name 'pdbl' is not defined",
     "output_type": "error",
     "traceback": [
      "\u001b[1;31m---------------------------------------------------------------------------\u001b[0m",
      "\u001b[1;31mNameError\u001b[0m                                 Traceback (most recent call last)",
      "\u001b[1;32m<ipython-input-4-f5eb25d26432>\u001b[0m in \u001b[0;36m<module>\u001b[1;34m()\u001b[0m\n\u001b[1;32m----> 1\u001b[1;33m \u001b[0mpdbl\u001b[0m\u001b[1;33m.\u001b[0m\u001b[0mretrieve_pdb_file\u001b[0m\u001b[1;33m(\u001b[0m\u001b[0mpdb_code\u001b[0m\u001b[1;33m,\u001b[0m \u001b[0mpdir\u001b[0m \u001b[1;33m=\u001b[0m \u001b[0mpdb_dir\u001b[0m\u001b[1;33m)\u001b[0m\u001b[1;33m\u001b[0m\u001b[0m\n\u001b[0m",
      "\u001b[1;31mNameError\u001b[0m: name 'pdbl' is not defined"
     ]
    }
   ],
   "source": [
    "pdbl.retrieve_pdb_file(pdb_code, pdir = pdb_dir)"
   ]
  },
  {
   "cell_type": "code",
   "execution_count": null,
   "metadata": {
    "collapsed": true
   },
   "outputs": [],
   "source": [
    "\n",
    "parser = PDB.PDBParser()\n",
    "\n",
    "# Parse the structure into a PDB.Structure object\n",
    "struct = parser.get_structure(pdb_code, pdb_path)\n"
   ]
  }
 ],
 "metadata": {
  "kernelspec": {
   "display_name": "Python [Root]",
   "language": "python",
   "name": "Python [Root]"
  },
  "language_info": {
   "codemirror_mode": {
    "name": "ipython",
    "version": 2
   },
   "file_extension": ".py",
   "mimetype": "text/x-python",
   "name": "python",
   "nbconvert_exporter": "python",
   "pygments_lexer": "ipython2",
   "version": "2.7.12"
  }
 },
 "nbformat": 4,
 "nbformat_minor": 0
}
